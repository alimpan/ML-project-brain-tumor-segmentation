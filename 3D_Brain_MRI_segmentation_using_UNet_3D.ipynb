{
  "nbformat": 4,
  "nbformat_minor": 0,
  "metadata": {
    "colab": {
      "name": "3D Brain MRI segmentation using UNet 3D.ipynb",
      "provenance": [],
      "collapsed_sections": [],
      "machine_shape": "hm"
    },
    "kernelspec": {
      "name": "python3",
      "display_name": "Python 3"
    },
    "language_info": {
      "name": "python"
    },
    "accelerator": "TPU"
  },
  "cells": [
    {
      "cell_type": "markdown",
      "metadata": {
        "id": "OkkBzkvoSbjy"
      },
      "source": [
        "# Importing Necessary Libraries:"
      ]
    },
    {
      "cell_type": "code",
      "metadata": {
        "id": "wTfL-I1aR01g"
      },
      "source": [
        "import random\n",
        "import pandas as pd\n",
        "import numpy as np\n",
        "import matplotlib.pyplot as plt\n",
        "#%matplotlib inline\n",
        "import tensorflow as tf\n",
        "import keras.backend as K\n",
        "from tensorflow.keras.utils import to_categorical\n",
        "from keras import metrics\n",
        "from keras.models import Model\n",
        "from keras.layers import Input, BatchNormalization, Activation, Dense, Dropout,Maximum\n",
        "from keras.layers.core import Reshape\n",
        "from keras.layers.convolutional import Conv2D, Conv2DTranspose,Conv3D,Conv3DTranspose\n",
        "from keras.layers.pooling import MaxPooling2D, GlobalMaxPool2D,MaxPooling3D\n",
        "from keras.layers.merge import concatenate, add\n",
        "from keras.optimizers import Adam\n",
        "from keras.preprocessing.image import ImageDataGenerator, array_to_img, img_to_array, load_img\n",
        "\n",
        "from skimage.io import imread, imshow, concatenate_images\n",
        "from skimage.transform import resize\n",
        "from sklearn.utils import class_weight\n",
        "\n",
        "\n",
        "import os\n",
        "from skimage.io import imread, imshow, concatenate_images\n",
        "from skimage.transform import resize\n",
        "import numpy as np\n",
        "\n",
        "import cv2\n",
        "import nibabel as nib\n",
        "from PIL import Image\n",
        "import tensorflow \n",
        "import tensorflow.keras as keras\n",
        "\n",
        "import skimage.io"
      ],
      "execution_count": null,
      "outputs": []
    },
    {
      "cell_type": "code",
      "metadata": {
        "colab": {
          "base_uri": "https://localhost:8080/"
        },
        "id": "YSpOhjf1sKTD",
        "outputId": "86aeb1b0-9fd3-4c56-faa5-ec833f5030b8"
      },
      "source": [
        "!pip install SimpleITK\n",
        "import SimpleITK"
      ],
      "execution_count": null,
      "outputs": [
        {
          "output_type": "stream",
          "text": [
            "Requirement already satisfied: SimpleITK in /usr/local/lib/python3.7/dist-packages (2.0.2)\n"
          ],
          "name": "stdout"
        }
      ]
    },
    {
      "cell_type": "markdown",
      "metadata": {
        "id": "FFKkDwb0SwMr"
      },
      "source": [
        "# Mounting Google Drive"
      ]
    },
    {
      "cell_type": "code",
      "metadata": {
        "id": "7jO0coArkDZn",
        "colab": {
          "base_uri": "https://localhost:8080/"
        },
        "outputId": "4e631f3f-00d5-4665-a957-1bada6abba42"
      },
      "source": [
        "from google.colab import drive\n",
        "drive.mount('/content/gdrive')"
      ],
      "execution_count": null,
      "outputs": [
        {
          "output_type": "stream",
          "text": [
            "Drive already mounted at /content/gdrive; to attempt to forcibly remount, call drive.mount(\"/content/gdrive\", force_remount=True).\n"
          ],
          "name": "stdout"
        }
      ]
    },
    {
      "cell_type": "markdown",
      "metadata": {
        "id": "c0SatF9FS3uc"
      },
      "source": [
        "# Path to training images"
      ]
    },
    {
      "cell_type": "code",
      "metadata": {
        "id": "afixW5Ezm9JJ"
      },
      "source": [
        "path=\"/content/gdrive/MyDrive/MICCAI_BraTS_2018_Data_Training/HGG/\""
      ],
      "execution_count": null,
      "outputs": []
    },
    {
      "cell_type": "markdown",
      "metadata": {
        "id": "MVc8KDMwS8Z0"
      },
      "source": [
        "# All folders in our data"
      ]
    },
    {
      "cell_type": "code",
      "metadata": {
        "colab": {
          "base_uri": "https://localhost:8080/"
        },
        "id": "Ofk84M4OnNOm",
        "outputId": "3c65190f-d83a-45ae-d7ad-1106bc39bceb"
      },
      "source": [
        "ids=next(os.walk(path))[1]\n",
        "print(ids)\n"
      ],
      "execution_count": null,
      "outputs": [
        {
          "output_type": "stream",
          "text": [
            "['Brats18_2013_10_1', 'Brats18_2013_11_1', 'Brats18_2013_12_1', 'Brats18_2013_13_1', 'Brats18_2013_14_1', 'Brats18_2013_17_1', 'Brats18_2013_18_1', 'Brats18_2013_19_1', 'Brats18_2013_20_1', 'Brats18_2013_21_1', 'Brats18_2013_22_1', 'Brats18_2013_23_1', 'Brats18_2013_25_1', 'Brats18_2013_26_1', 'Brats18_2013_27_1', 'Brats18_2013_2_1', 'Brats18_2013_3_1', 'Brats18_2013_4_1', 'Brats18_2013_5_1', 'Brats18_2013_7_1', 'Brats18_CBICA_AAB_1', 'Brats18_CBICA_AAG_1', 'Brats18_CBICA_AAL_1', 'Brats18_CBICA_AAP_1', 'Brats18_CBICA_ABB_1', 'Brats18_CBICA_ABE_1', 'Brats18_CBICA_ABM_1', 'Brats18_CBICA_ABN_1', 'Brats18_CBICA_ABO_1', 'Brats18_CBICA_ABY_1', 'Brats18_CBICA_ALN_1', 'Brats18_CBICA_ALU_1', 'Brats18_CBICA_ALX_1', 'Brats18_CBICA_AME_1', 'Brats18_CBICA_AMH_1', 'Brats18_CBICA_ANG_1', 'Brats18_CBICA_ANI_1', 'Brats18_CBICA_ANP_1', 'Brats18_CBICA_ANZ_1', 'Brats18_CBICA_AOD_1', 'Brats18_CBICA_AOH_1', 'Brats18_CBICA_AOO_1', 'Brats18_CBICA_AOP_1', 'Brats18_CBICA_AOZ_1', 'Brats18_CBICA_APR_1', 'Brats18_CBICA_APY_1', 'Brats18_CBICA_APZ_1', 'Brats18_CBICA_AQA_1', 'Brats18_CBICA_AQD_1', 'Brats18_CBICA_AQG_1', 'Brats18_CBICA_AQJ_1', 'Brats18_CBICA_AQN_1', 'Brats18_CBICA_AQO_1', 'Brats18_CBICA_AQP_1', 'Brats18_CBICA_AQQ_1', 'Brats18_CBICA_AQR_1', 'Brats18_CBICA_AQT_1', 'Brats18_CBICA_AQU_1', 'Brats18_CBICA_AQV_1', 'Brats18_CBICA_AQY_1', 'Brats18_CBICA_AQZ_1', 'Brats18_CBICA_ARF_1', 'Brats18_CBICA_ARW_1', 'Brats18_CBICA_ARZ_1', 'Brats18_CBICA_ASA_1', 'Brats18_CBICA_ASE_1', 'Brats18_CBICA_ASG_1', 'Brats18_CBICA_ASH_1', 'Brats18_CBICA_ASK_1', 'Brats18_CBICA_ASN_1', 'Brats18_CBICA_ASO_1', 'Brats18_CBICA_ASU_1', 'Brats18_CBICA_ASV_1', 'Brats18_CBICA_ASW_1', 'Brats18_CBICA_ASY_1', 'Brats18_CBICA_ATB_1', 'Brats18_CBICA_ATD_1', 'Brats18_CBICA_ATF_1', 'Brats18_CBICA_ATP_1', 'Brats18_CBICA_ATV_1', 'Brats18_CBICA_ATX_1', 'Brats18_CBICA_AUN_1', 'Brats18_CBICA_AUQ_1', 'Brats18_CBICA_AUR_1', 'Brats18_CBICA_AVG_1', 'Brats18_CBICA_AVJ_1', 'Brats18_CBICA_AVV_1', 'Brats18_CBICA_AWG_1', 'Brats18_CBICA_AWH_1', 'Brats18_CBICA_AWI_1', 'Brats18_CBICA_AXJ_1', 'Brats18_CBICA_AXL_1', 'Brats18_CBICA_AXM_1', 'Brats18_CBICA_AXN_1', 'Brats18_CBICA_AXO_1', 'Brats18_CBICA_AXQ_1', 'Brats18_CBICA_AXW_1', 'Brats18_CBICA_AYA_1', 'Brats18_CBICA_AYI_1', 'Brats18_CBICA_AYU_1', 'Brats18_CBICA_AYW_1', 'Brats18_CBICA_AZD_1', 'Brats18_CBICA_AZH_1', 'Brats18_CBICA_BFB_1', 'Brats18_CBICA_BFP_1', 'Brats18_CBICA_BHB_1', 'Brats18_CBICA_BHK_1', 'Brats18_CBICA_BHM_1', 'Brats18_TCIA01_131_1', 'Brats18_TCIA01_147_1', 'Brats18_TCIA01_150_1', 'Brats18_TCIA01_180_1', 'Brats18_TCIA01_186_1', 'Brats18_TCIA01_190_1', 'Brats18_TCIA01_201_1', 'Brats18_TCIA01_203_1', 'Brats18_TCIA01_221_1', 'Brats18_TCIA01_231_1', 'Brats18_TCIA01_235_1', 'Brats18_TCIA01_335_1', 'Brats18_TCIA01_378_1', 'Brats18_TCIA01_390_1', 'Brats18_TCIA01_401_1', 'Brats18_TCIA01_411_1', 'Brats18_TCIA01_412_1', 'Brats18_TCIA01_425_1', 'Brats18_TCIA01_429_1', 'Brats18_TCIA01_448_1', 'Brats18_TCIA01_460_1', 'Brats18_TCIA01_499_1', 'Brats18_TCIA02_117_1', 'Brats18_TCIA02_118_1', 'Brats18_TCIA02_135_1', 'Brats18_TCIA02_151_1', 'Brats18_TCIA02_168_1', 'Brats18_TCIA02_171_1', 'Brats18_TCIA02_179_1', 'Brats18_TCIA02_198_1', 'Brats18_TCIA02_208_1', 'Brats18_TCIA02_222_1', 'Brats18_TCIA02_226_1', 'Brats18_TCIA02_274_1', 'Brats18_TCIA02_283_1', 'Brats18_TCIA02_290_1', 'Brats18_TCIA02_300_1', 'Brats18_TCIA02_309_1', 'Brats18_TCIA02_314_1', 'Brats18_TCIA02_321_1', 'Brats18_TCIA02_322_1', 'Brats18_TCIA02_331_1', 'Brats18_TCIA02_368_1', 'Brats18_TCIA02_370_1', 'Brats18_TCIA02_374_1', 'Brats18_TCIA02_377_1', 'Brats18_TCIA02_394_1', 'Brats18_TCIA02_430_1', 'Brats18_TCIA02_455_1', 'Brats18_TCIA02_471_1', 'Brats18_TCIA02_473_1', 'Brats18_TCIA02_491_1', 'Brats18_TCIA02_605_1', 'Brats18_TCIA02_606_1', 'Brats18_TCIA02_607_1', 'Brats18_TCIA02_608_1', 'Brats18_TCIA03_121_1', 'Brats18_TCIA03_133_1', 'Brats18_TCIA03_138_1', 'Brats18_TCIA03_199_1', 'Brats18_TCIA03_257_1', 'Brats18_TCIA03_265_1', 'Brats18_TCIA03_296_1', 'Brats18_TCIA03_338_1', 'Brats18_TCIA03_375_1', 'Brats18_TCIA03_419_1', 'Brats18_TCIA03_474_1', 'Brats18_TCIA03_498_1', 'Brats18_TCIA04_111_1', 'Brats18_TCIA04_149_1', 'Brats18_TCIA04_192_1', 'Brats18_TCIA04_328_1', 'Brats18_TCIA04_343_1', 'Brats18_TCIA04_361_1', 'Brats18_TCIA04_437_1', 'Brats18_TCIA04_479_1', 'Brats18_TCIA05_277_1', 'Brats18_TCIA05_396_1', 'Brats18_TCIA05_444_1', 'Brats18_TCIA05_478_1', 'Brats18_TCIA06_165_1', 'Brats18_TCIA06_184_1', 'Brats18_TCIA06_211_1', 'Brats18_TCIA06_247_1', 'Brats18_TCIA06_332_1', 'Brats18_TCIA06_372_1', 'Brats18_TCIA06_409_1', 'Brats18_TCIA06_603_1', 'Brats18_TCIA08_105_1', 'Brats18_TCIA08_113_1', 'Brats18_TCIA08_162_1', 'Brats18_TCIA08_167_1', 'Brats18_TCIA08_205_1', 'Brats18_TCIA08_218_1', 'Brats18_TCIA08_234_1', 'Brats18_TCIA08_242_1', 'Brats18_TCIA08_278_1', 'Brats18_TCIA08_280_1', 'Brats18_TCIA08_319_1', 'Brats18_TCIA08_406_1', 'Brats18_TCIA08_436_1', 'Brats18_TCIA08_469_1']\n"
          ],
          "name": "stdout"
        }
      ]
    },
    {
      "cell_type": "code",
      "metadata": {
        "colab": {
          "base_uri": "https://localhost:8080/"
        },
        "id": "0RyfeZlSvNBM",
        "outputId": "bcf5231d-ca31-4b1d-e669-f8b7a4a7af25"
      },
      "source": [
        "len(ids)"
      ],
      "execution_count": null,
      "outputs": [
        {
          "output_type": "execute_result",
          "data": {
            "text/plain": [
              "210"
            ]
          },
          "metadata": {
            "tags": []
          },
          "execution_count": 6
        }
      ]
    },
    {
      "cell_type": "markdown",
      "metadata": {
        "id": "GN5_VkafV94o"
      },
      "source": [
        "# Function to standardize images"
      ]
    },
    {
      "cell_type": "code",
      "metadata": {
        "id": "rFKVTFGjwyFk"
      },
      "source": [
        "def standardize(image):\n",
        "\n",
        "    standardized_image = np.zeros(image.shape)\n",
        "\n",
        "    \n",
        "   \n",
        "        # iterate over the `z` dimension\n",
        "    for z in range(image.shape[2]):\n",
        "        # get a slice of the image at z-th dimension `z`\n",
        "        image_slice = image[:,:,z]\n",
        "\n",
        "        # subtract the mean from image_slice\n",
        "        centered = image_slice - np.mean(image_slice)\n",
        "       \n",
        "        # divide by the standard deviation (only if it is different from zero)\n",
        "        if(np.std(centered)!=0):\n",
        "            centered = centered/np.std(centered)\n",
        "\n",
        "        # update  the slice of standardized image\n",
        "        standardized_image[:, :,z] = centered\n",
        "\n",
        "\n",
        "    return standardized_image"
      ],
      "execution_count": null,
      "outputs": []
    },
    {
      "cell_type": "markdown",
      "metadata": {
        "id": "ZabxPe-zY2nm"
      },
      "source": [
        "# Convolution block"
      ]
    },
    {
      "cell_type": "code",
      "metadata": {
        "id": "eM2gDazb-GmB"
      },
      "source": [
        "def conv_block(input_mat,num_filters,kernel_size,batch_norm):\n",
        "  X = Conv3D(num_filters,kernel_size=(kernel_size,kernel_size,kernel_size),strides=(1,1,1),padding='same')(input_mat)\n",
        "  if batch_norm:\n",
        "    X = BatchNormalization()(X)\n",
        "  \n",
        "  X = Activation('relu')(X)\n",
        "\n",
        "  X = Conv3D(num_filters,kernel_size=(kernel_size,kernel_size,kernel_size),strides=(1,1,1),padding='same')(X)\n",
        "  if batch_norm:\n",
        "    X = BatchNormalization()(X)\n",
        "  \n",
        "  X = Activation('relu')(X)\n",
        "  \n",
        "  return X"
      ],
      "execution_count": null,
      "outputs": []
    },
    {
      "cell_type": "markdown",
      "metadata": {
        "id": "Egy0_RiYY6Qv"
      },
      "source": [
        "# UNet 3D Architecture:"
      ]
    },
    {
      "cell_type": "code",
      "metadata": {
        "id": "QtJQ-3-48Z8y"
      },
      "source": [
        "def Unet_3d(input_img, n_filters = 8, dropout = 0.2, batch_norm = True):\n",
        "\n",
        "    c1 = conv_block(input_img,n_filters,3,batch_norm)\n",
        "    p1 = MaxPooling3D(pool_size=(2, 2, 2), strides=2)(c1)\n",
        "    p1 = Dropout(dropout)(p1)\n",
        "\n",
        "    c2 = conv_block(p1,n_filters*2,3,batch_norm);\n",
        "    p2 = MaxPooling3D(pool_size=(2,2,2) ,strides=2)(c2)\n",
        "    p2 = Dropout(dropout)(p2)\n",
        "\n",
        "    c3 = conv_block(p2,n_filters*4,3,batch_norm);\n",
        "    p3 = MaxPooling3D(pool_size=(2,2,2) ,strides=2)(c3)\n",
        "    p3 = Dropout(dropout)(p3)\n",
        "\n",
        "    c4 = conv_block(p3,n_filters*8,3,batch_norm);\n",
        "    p4 = MaxPooling3D(pool_size=(2,2,2) ,strides=2)(c4)\n",
        "    p4 = Dropout(dropout)(p4)\n",
        "\n",
        "    c5 = conv_block(p4,n_filters*16,3,batch_norm);\n",
        "\n",
        "    u6 = Conv3DTranspose(n_filters*8, (3,3,3), strides=(2, 2, 2), padding='same')(c5);\n",
        "    u6 = concatenate([u6,c4]);\n",
        "    c6 = conv_block(u6,n_filters*8,3,batch_norm)\n",
        "    c6 = Dropout(dropout)(c6)\n",
        "    u7 = Conv3DTranspose(n_filters*4,(3,3,3),strides = (2,2,2) , padding= 'same')(c6);\n",
        "\n",
        "    u7 = concatenate([u7,c3]);\n",
        "    c7 = conv_block(u7,n_filters*4,3,batch_norm)\n",
        "    c7 = Dropout(dropout)(c7)\n",
        "    u8 = Conv3DTranspose(n_filters*2,(3,3,3),strides = (2,2,2) , padding='same')(c7);\n",
        "    u8 = concatenate([u8,c2]);\n",
        "\n",
        "    c8 = conv_block(u8,n_filters*2,3,batch_norm)\n",
        "    c8 = Dropout(dropout)(c8)\n",
        "    u9 = Conv3DTranspose(n_filters,(3,3,3),strides = (2,2,2) , padding='same')(c8);\n",
        "\n",
        "    u9 = concatenate([u9,c1]);\n",
        "\n",
        "    c9 = conv_block(u9,n_filters,3,batch_norm)\n",
        "    outputs = Conv3D(4, (1,1,1), activation='softmax')(c9)\n",
        "    print(\"!!!!!!!!!!!!!!!!!!!\")\n",
        "    print(outputs.shape)\n",
        "    model = Model(inputs=input_img, outputs=outputs)\n",
        "\n",
        "    return model\n"
      ],
      "execution_count": null,
      "outputs": []
    },
    {
      "cell_type": "markdown",
      "metadata": {
        "id": "0s7iL_ZYZg1G"
      },
      "source": [
        "# Dice Co-efficient and Dice-Loss"
      ]
    },
    {
      "cell_type": "code",
      "metadata": {
        "id": "J_JK8Q8fy5zF"
      },
      "source": [
        "def dice_coef(y_true, y_pred, epsilon=0.00001):\n",
        "    \n",
        "    axis = (0,1,2,3)\n",
        "    dice_numerator = 2. * K.sum(y_true * y_pred, axis=axis) + epsilon\n",
        "    dice_denominator = K.sum(y_true*y_true, axis=axis) + K.sum(y_pred*y_pred, axis=axis) + epsilon\n",
        "    return K.mean((dice_numerator)/(dice_denominator))\n"
      ],
      "execution_count": null,
      "outputs": []
    },
    {
      "cell_type": "code",
      "metadata": {
        "id": "sYAqt6-Dy--D"
      },
      "source": [
        "def dice_coef_loss(y_true, y_pred):\n",
        "    return 1-dice_coef(y_true, y_pred)"
      ],
      "execution_count": null,
      "outputs": []
    },
    {
      "cell_type": "markdown",
      "metadata": {
        "id": "EdOuaqSyWKs1"
      },
      "source": [
        "# Preparing the model:"
      ]
    },
    {
      "cell_type": "code",
      "metadata": {
        "colab": {
          "base_uri": "https://localhost:8080/"
        },
        "id": "R_kTpYkFzCuv",
        "outputId": "a762b3ea-15d5-4509-aa86-aa5350e606b1"
      },
      "source": [
        "input_img = Input((128,128,128,4))\n",
        "model = Unet_3d(input_img,8,0.1,True)\n",
        "learning_rate = 0.01\n",
        "decay_rate = 0.000001\n",
        "model.compile(optimizer=Adam(lr=learning_rate, decay = decay_rate), loss=dice_coef_loss, metrics=[dice_coef])\n",
        "model.summary()"
      ],
      "execution_count": null,
      "outputs": [
        {
          "output_type": "stream",
          "text": [
            "!!!!!!!!!!!!!!!!!!!\n",
            "(None, 128, 128, 128, 4)\n",
            "Model: \"model\"\n",
            "__________________________________________________________________________________________________\n",
            "Layer (type)                    Output Shape         Param #     Connected to                     \n",
            "==================================================================================================\n",
            "input_1 (InputLayer)            [(None, 128, 128, 12 0                                            \n",
            "__________________________________________________________________________________________________\n",
            "conv3d (Conv3D)                 (None, 128, 128, 128 872         input_1[0][0]                    \n",
            "__________________________________________________________________________________________________\n",
            "batch_normalization (BatchNorma (None, 128, 128, 128 32          conv3d[0][0]                     \n",
            "__________________________________________________________________________________________________\n",
            "activation (Activation)         (None, 128, 128, 128 0           batch_normalization[0][0]        \n",
            "__________________________________________________________________________________________________\n",
            "conv3d_1 (Conv3D)               (None, 128, 128, 128 1736        activation[0][0]                 \n",
            "__________________________________________________________________________________________________\n",
            "batch_normalization_1 (BatchNor (None, 128, 128, 128 32          conv3d_1[0][0]                   \n",
            "__________________________________________________________________________________________________\n",
            "activation_1 (Activation)       (None, 128, 128, 128 0           batch_normalization_1[0][0]      \n",
            "__________________________________________________________________________________________________\n",
            "max_pooling3d (MaxPooling3D)    (None, 64, 64, 64, 8 0           activation_1[0][0]               \n",
            "__________________________________________________________________________________________________\n",
            "dropout (Dropout)               (None, 64, 64, 64, 8 0           max_pooling3d[0][0]              \n",
            "__________________________________________________________________________________________________\n",
            "conv3d_2 (Conv3D)               (None, 64, 64, 64, 1 3472        dropout[0][0]                    \n",
            "__________________________________________________________________________________________________\n",
            "batch_normalization_2 (BatchNor (None, 64, 64, 64, 1 64          conv3d_2[0][0]                   \n",
            "__________________________________________________________________________________________________\n",
            "activation_2 (Activation)       (None, 64, 64, 64, 1 0           batch_normalization_2[0][0]      \n",
            "__________________________________________________________________________________________________\n",
            "conv3d_3 (Conv3D)               (None, 64, 64, 64, 1 6928        activation_2[0][0]               \n",
            "__________________________________________________________________________________________________\n",
            "batch_normalization_3 (BatchNor (None, 64, 64, 64, 1 64          conv3d_3[0][0]                   \n",
            "__________________________________________________________________________________________________\n",
            "activation_3 (Activation)       (None, 64, 64, 64, 1 0           batch_normalization_3[0][0]      \n",
            "__________________________________________________________________________________________________\n",
            "max_pooling3d_1 (MaxPooling3D)  (None, 32, 32, 32, 1 0           activation_3[0][0]               \n",
            "__________________________________________________________________________________________________\n",
            "dropout_1 (Dropout)             (None, 32, 32, 32, 1 0           max_pooling3d_1[0][0]            \n",
            "__________________________________________________________________________________________________\n",
            "conv3d_4 (Conv3D)               (None, 32, 32, 32, 3 13856       dropout_1[0][0]                  \n",
            "__________________________________________________________________________________________________\n",
            "batch_normalization_4 (BatchNor (None, 32, 32, 32, 3 128         conv3d_4[0][0]                   \n",
            "__________________________________________________________________________________________________\n",
            "activation_4 (Activation)       (None, 32, 32, 32, 3 0           batch_normalization_4[0][0]      \n",
            "__________________________________________________________________________________________________\n",
            "conv3d_5 (Conv3D)               (None, 32, 32, 32, 3 27680       activation_4[0][0]               \n",
            "__________________________________________________________________________________________________\n",
            "batch_normalization_5 (BatchNor (None, 32, 32, 32, 3 128         conv3d_5[0][0]                   \n",
            "__________________________________________________________________________________________________\n",
            "activation_5 (Activation)       (None, 32, 32, 32, 3 0           batch_normalization_5[0][0]      \n",
            "__________________________________________________________________________________________________\n",
            "max_pooling3d_2 (MaxPooling3D)  (None, 16, 16, 16, 3 0           activation_5[0][0]               \n",
            "__________________________________________________________________________________________________\n",
            "dropout_2 (Dropout)             (None, 16, 16, 16, 3 0           max_pooling3d_2[0][0]            \n",
            "__________________________________________________________________________________________________\n",
            "conv3d_6 (Conv3D)               (None, 16, 16, 16, 6 55360       dropout_2[0][0]                  \n",
            "__________________________________________________________________________________________________\n",
            "batch_normalization_6 (BatchNor (None, 16, 16, 16, 6 256         conv3d_6[0][0]                   \n",
            "__________________________________________________________________________________________________\n",
            "activation_6 (Activation)       (None, 16, 16, 16, 6 0           batch_normalization_6[0][0]      \n",
            "__________________________________________________________________________________________________\n",
            "conv3d_7 (Conv3D)               (None, 16, 16, 16, 6 110656      activation_6[0][0]               \n",
            "__________________________________________________________________________________________________\n",
            "batch_normalization_7 (BatchNor (None, 16, 16, 16, 6 256         conv3d_7[0][0]                   \n",
            "__________________________________________________________________________________________________\n",
            "activation_7 (Activation)       (None, 16, 16, 16, 6 0           batch_normalization_7[0][0]      \n",
            "__________________________________________________________________________________________________\n",
            "max_pooling3d_3 (MaxPooling3D)  (None, 8, 8, 8, 64)  0           activation_7[0][0]               \n",
            "__________________________________________________________________________________________________\n",
            "dropout_3 (Dropout)             (None, 8, 8, 8, 64)  0           max_pooling3d_3[0][0]            \n",
            "__________________________________________________________________________________________________\n",
            "conv3d_8 (Conv3D)               (None, 8, 8, 8, 128) 221312      dropout_3[0][0]                  \n",
            "__________________________________________________________________________________________________\n",
            "batch_normalization_8 (BatchNor (None, 8, 8, 8, 128) 512         conv3d_8[0][0]                   \n",
            "__________________________________________________________________________________________________\n",
            "activation_8 (Activation)       (None, 8, 8, 8, 128) 0           batch_normalization_8[0][0]      \n",
            "__________________________________________________________________________________________________\n",
            "conv3d_9 (Conv3D)               (None, 8, 8, 8, 128) 442496      activation_8[0][0]               \n",
            "__________________________________________________________________________________________________\n",
            "batch_normalization_9 (BatchNor (None, 8, 8, 8, 128) 512         conv3d_9[0][0]                   \n",
            "__________________________________________________________________________________________________\n",
            "activation_9 (Activation)       (None, 8, 8, 8, 128) 0           batch_normalization_9[0][0]      \n",
            "__________________________________________________________________________________________________\n",
            "conv3d_transpose (Conv3DTranspo (None, 16, 16, 16, 6 221248      activation_9[0][0]               \n",
            "__________________________________________________________________________________________________\n",
            "concatenate (Concatenate)       (None, 16, 16, 16, 1 0           conv3d_transpose[0][0]           \n",
            "                                                                 activation_7[0][0]               \n",
            "__________________________________________________________________________________________________\n",
            "conv3d_10 (Conv3D)              (None, 16, 16, 16, 6 221248      concatenate[0][0]                \n",
            "__________________________________________________________________________________________________\n",
            "batch_normalization_10 (BatchNo (None, 16, 16, 16, 6 256         conv3d_10[0][0]                  \n",
            "__________________________________________________________________________________________________\n",
            "activation_10 (Activation)      (None, 16, 16, 16, 6 0           batch_normalization_10[0][0]     \n",
            "__________________________________________________________________________________________________\n",
            "conv3d_11 (Conv3D)              (None, 16, 16, 16, 6 110656      activation_10[0][0]              \n",
            "__________________________________________________________________________________________________\n",
            "batch_normalization_11 (BatchNo (None, 16, 16, 16, 6 256         conv3d_11[0][0]                  \n",
            "__________________________________________________________________________________________________\n",
            "activation_11 (Activation)      (None, 16, 16, 16, 6 0           batch_normalization_11[0][0]     \n",
            "__________________________________________________________________________________________________\n",
            "dropout_4 (Dropout)             (None, 16, 16, 16, 6 0           activation_11[0][0]              \n",
            "__________________________________________________________________________________________________\n",
            "conv3d_transpose_1 (Conv3DTrans (None, 32, 32, 32, 3 55328       dropout_4[0][0]                  \n",
            "__________________________________________________________________________________________________\n",
            "concatenate_1 (Concatenate)     (None, 32, 32, 32, 6 0           conv3d_transpose_1[0][0]         \n",
            "                                                                 activation_5[0][0]               \n",
            "__________________________________________________________________________________________________\n",
            "conv3d_12 (Conv3D)              (None, 32, 32, 32, 3 55328       concatenate_1[0][0]              \n",
            "__________________________________________________________________________________________________\n",
            "batch_normalization_12 (BatchNo (None, 32, 32, 32, 3 128         conv3d_12[0][0]                  \n",
            "__________________________________________________________________________________________________\n",
            "activation_12 (Activation)      (None, 32, 32, 32, 3 0           batch_normalization_12[0][0]     \n",
            "__________________________________________________________________________________________________\n",
            "conv3d_13 (Conv3D)              (None, 32, 32, 32, 3 27680       activation_12[0][0]              \n",
            "__________________________________________________________________________________________________\n",
            "batch_normalization_13 (BatchNo (None, 32, 32, 32, 3 128         conv3d_13[0][0]                  \n",
            "__________________________________________________________________________________________________\n",
            "activation_13 (Activation)      (None, 32, 32, 32, 3 0           batch_normalization_13[0][0]     \n",
            "__________________________________________________________________________________________________\n",
            "dropout_5 (Dropout)             (None, 32, 32, 32, 3 0           activation_13[0][0]              \n",
            "__________________________________________________________________________________________________\n",
            "conv3d_transpose_2 (Conv3DTrans (None, 64, 64, 64, 1 13840       dropout_5[0][0]                  \n",
            "__________________________________________________________________________________________________\n",
            "concatenate_2 (Concatenate)     (None, 64, 64, 64, 3 0           conv3d_transpose_2[0][0]         \n",
            "                                                                 activation_3[0][0]               \n",
            "__________________________________________________________________________________________________\n",
            "conv3d_14 (Conv3D)              (None, 64, 64, 64, 1 13840       concatenate_2[0][0]              \n",
            "__________________________________________________________________________________________________\n",
            "batch_normalization_14 (BatchNo (None, 64, 64, 64, 1 64          conv3d_14[0][0]                  \n",
            "__________________________________________________________________________________________________\n",
            "activation_14 (Activation)      (None, 64, 64, 64, 1 0           batch_normalization_14[0][0]     \n",
            "__________________________________________________________________________________________________\n",
            "conv3d_15 (Conv3D)              (None, 64, 64, 64, 1 6928        activation_14[0][0]              \n",
            "__________________________________________________________________________________________________\n",
            "batch_normalization_15 (BatchNo (None, 64, 64, 64, 1 64          conv3d_15[0][0]                  \n",
            "__________________________________________________________________________________________________\n",
            "activation_15 (Activation)      (None, 64, 64, 64, 1 0           batch_normalization_15[0][0]     \n",
            "__________________________________________________________________________________________________\n",
            "dropout_6 (Dropout)             (None, 64, 64, 64, 1 0           activation_15[0][0]              \n",
            "__________________________________________________________________________________________________\n",
            "conv3d_transpose_3 (Conv3DTrans (None, 128, 128, 128 3464        dropout_6[0][0]                  \n",
            "__________________________________________________________________________________________________\n",
            "concatenate_3 (Concatenate)     (None, 128, 128, 128 0           conv3d_transpose_3[0][0]         \n",
            "                                                                 activation_1[0][0]               \n",
            "__________________________________________________________________________________________________\n",
            "conv3d_16 (Conv3D)              (None, 128, 128, 128 3464        concatenate_3[0][0]              \n",
            "__________________________________________________________________________________________________\n",
            "batch_normalization_16 (BatchNo (None, 128, 128, 128 32          conv3d_16[0][0]                  \n",
            "__________________________________________________________________________________________________\n",
            "activation_16 (Activation)      (None, 128, 128, 128 0           batch_normalization_16[0][0]     \n",
            "__________________________________________________________________________________________________\n",
            "conv3d_17 (Conv3D)              (None, 128, 128, 128 1736        activation_16[0][0]              \n",
            "__________________________________________________________________________________________________\n",
            "batch_normalization_17 (BatchNo (None, 128, 128, 128 32          conv3d_17[0][0]                  \n",
            "__________________________________________________________________________________________________\n",
            "activation_17 (Activation)      (None, 128, 128, 128 0           batch_normalization_17[0][0]     \n",
            "__________________________________________________________________________________________________\n",
            "conv3d_18 (Conv3D)              (None, 128, 128, 128 36          activation_17[0][0]              \n",
            "==================================================================================================\n",
            "Total params: 1,622,108\n",
            "Trainable params: 1,620,636\n",
            "Non-trainable params: 1,472\n",
            "__________________________________________________________________________________________________\n"
          ],
          "name": "stdout"
        },
        {
          "output_type": "stream",
          "text": [
            "/usr/local/lib/python3.7/dist-packages/tensorflow/python/keras/optimizer_v2/optimizer_v2.py:375: UserWarning: The `lr` argument is deprecated, use `learning_rate` instead.\n",
            "  \"The `lr` argument is deprecated, use `learning_rate` instead.\")\n"
          ],
          "name": "stderr"
        }
      ]
    },
    {
      "cell_type": "code",
      "metadata": {
        "id": "oLwDKltdBTN4"
      },
      "source": [
        "import tensorflow.keras as keras\n",
        "import tensorflow\n"
      ],
      "execution_count": null,
      "outputs": []
    },
    {
      "cell_type": "code",
      "metadata": {
        "id": "skBgDlyUF8xz"
      },
      "source": [
        "all_images=os.listdir(path)"
      ],
      "execution_count": null,
      "outputs": []
    },
    {
      "cell_type": "markdown",
      "metadata": {
        "id": "qktRTMXOWDbJ"
      },
      "source": [
        "# Number of images used:"
      ]
    },
    {
      "cell_type": "code",
      "metadata": {
        "id": "Zmj0_sepSTGG"
      },
      "source": [
        "nou=40 #Number of images used "
      ],
      "execution_count": null,
      "outputs": []
    },
    {
      "cell_type": "code",
      "metadata": {
        "id": "9S2aL2laARio"
      },
      "source": [
        "# This function resizes 3d images\n",
        "def my_resize_func(img):\n",
        "    out_im=[]\n",
        "    for i in range(15,143):\n",
        "        im1=img[:,:,i]\n",
        "        im1=cv2.resize(im1,(128,128))\n",
        "        out_im.append(im1)\n",
        "    return np.array(out_im,np.float32)\n"
      ],
      "execution_count": null,
      "outputs": []
    },
    {
      "cell_type": "markdown",
      "metadata": {
        "id": "LrID3ikwVUXA"
      },
      "source": [
        "# A sample image:"
      ]
    },
    {
      "cell_type": "code",
      "metadata": {
        "colab": {
          "base_uri": "https://localhost:8080/",
          "height": 36
        },
        "id": "7aAVseMLqyYQ",
        "outputId": "ce5082e7-05b3-4841-d52f-670f24c09627"
      },
      "source": [
        "path1=path+all_images[2]\n",
        "path1\n",
        "m=os.listdir(path1)\n",
        "t=path1+\"/\"+m[3]\n",
        "t"
      ],
      "execution_count": null,
      "outputs": [
        {
          "output_type": "execute_result",
          "data": {
            "application/vnd.google.colaboratory.intrinsic+json": {
              "type": "string"
            },
            "text/plain": [
              "'/content/gdrive/MyDrive/MICCAI_BraTS_2018_Data_Training/HGG/Brats18_2013_12_1/Brats18_2013_12_1_t1ce.nii'"
            ]
          },
          "metadata": {
            "tags": []
          },
          "execution_count": 19
        }
      ]
    },
    {
      "cell_type": "code",
      "metadata": {
        "colab": {
          "base_uri": "https://localhost:8080/",
          "height": 389
        },
        "id": "PN_M2w1WCW-s",
        "outputId": "f79a3dad-5b9c-42c7-f452-1eb26e3c4554"
      },
      "source": [
        "imm=nib.load(t)\n",
        "imm2=imm.get_data()\n",
        "imm2=standardize(imm2)\n",
        "plt.imshow(imm2[:,:,80])"
      ],
      "execution_count": null,
      "outputs": [
        {
          "output_type": "stream",
          "text": [
            "/usr/local/lib/python3.7/dist-packages/ipykernel_launcher.py:2: DeprecationWarning: get_data() is deprecated in favor of get_fdata(), which has a more predictable return type. To obtain get_data() behavior going forward, use numpy.asanyarray(img.dataobj).\n",
            "\n",
            "* deprecated from version: 3.0\n",
            "* Will raise <class 'nibabel.deprecator.ExpiredDeprecationError'> as of version: 5.0\n",
            "  \n"
          ],
          "name": "stderr"
        },
        {
          "output_type": "execute_result",
          "data": {
            "text/plain": [
              "<matplotlib.image.AxesImage at 0x7f7bb22f0710>"
            ]
          },
          "metadata": {
            "tags": []
          },
          "execution_count": 21
        },
        {
          "output_type": "display_data",
          "data": {
            "image/png": "[encoded data removed]",
            "text/plain": [
              "<Figure size 432x288 with 1 Axes>"
            ]
          },
          "metadata": {
            "tags": [],
            "needs_background": "light"
          }
        }
      ]
    },
    {
      "cell_type": "markdown",
      "metadata": {
        "id": "hHxQQxV-Vc5M"
      },
      "source": [
        "# Preparing the train images:"
      ]
    },
    {
      "cell_type": "code",
      "metadata": {
        "colab": {
          "base_uri": "https://localhost:8080/"
        },
        "id": "QHGiXhgRhwWQ",
        "outputId": "3af28849-b861-4263-d69a-e00e8431c6ad"
      },
      "source": [
        "\n",
        "y_train=[]\n",
        "flair=[]\n",
        "t1=[]\n",
        "t2=[]\n",
        "t1ce=[]\n",
        "# data preprocessing starts here\n",
        "for image_num in range(nou):\n",
        "\n",
        "    x = all_images[image_num]\n",
        "    print(x)\n",
        "    folder_path = path + x;\n",
        "    modalities = os.listdir(folder_path)\n",
        "    modalities.sort()\n",
        "    #data = []\n",
        "    \n",
        "    for j in range(len(modalities)):\n",
        "\n",
        "        #print(modalities[j])\n",
        "        \n",
        "        image_path = folder_path + '/' + modalities[j]\n",
        "        if (image_path[-7:-1] + image_path[-1] == 'seg.nii'): #Prepares the ground truth\n",
        "\n",
        "            img = nib.load(image_path)\n",
        "            image_data2 = img.get_data()\n",
        "            image_data2 = np.asarray(image_data2)\n",
        "            #image_data2=skimage.io.imread(image_path,plugin=\"simpleitk\")\n",
        "            image_data2=standardize(image_data2)\n",
        "            #image_data2=my_resize_func(image_data2)\n",
        "            image_data2=np.expand_dims(image_data2,axis=-1)\n",
        "            y_train.append(image_data2)\n",
        "        if (image_path[-9:-1] + image_path[-1] == 'flair.nii'): #Prepares the Flair modality\n",
        "\n",
        "            img = nib.load(image_path)\n",
        "            image_data2 = img.get_data()\n",
        "            image_data2 = np.asarray(image_data2)\n",
        "            #image_data2=skimage.io.imread(image_path,plugin=\"simpleitk\")\n",
        "            image_data2=standardize(image_data2)\n",
        "            #image_data2=my_resize_func(image_data2)\n",
        "            image_data2=np.expand_dims(image_data2,axis=-1)\n",
        "            flair.append(image_data2)\n",
        "        if (image_path[-6:-1] + image_path[-1] == 't1.nii'): #Prepares the t1 modality\n",
        "\n",
        "            img = nib.load(image_path)\n",
        "            image_data2 = img.get_data()\n",
        "            image_data2 = np.asarray(image_data2)\n",
        "            #image_data2=skimage.io.imread(image_path,plugin=\"simpleitk\")\n",
        "            image_data2=standardize(image_data2)\n",
        "            #image_data2=my_resize_func(image_data2)\n",
        "            image_data2=np.expand_dims(image_data2,axis=-1)\n",
        "            t1.append(image_data2)\n",
        "        if (image_path[-6:-1] + image_path[-1] == 't2.nii'): # Prepares the t2 modality\n",
        "\n",
        "            img = nib.load(image_path);\n",
        "            image_data2 = img.get_data()\n",
        "            image_data2 = np.asarray(image_data2)\n",
        "            #image_data2=skimage.io.imread(image_path,plugin=\"simpleitk\")\n",
        "            image_data2=standardize(image_data2)\n",
        "            #image_data2=my_resize_func(image_data2)\n",
        "            image_data2=np.expand_dims(image_data2,axis=-1)\n",
        "            t2.append(image_data2)\n",
        "        if (image_path[-8:-1] + image_path[-1] == 't1ce.nii'): #Prepares the t1ce modality\n",
        "\n",
        "            img = nib.load(image_path)\n",
        "            image_data2 = img.get_data()\n",
        "            image_data2 = np.asarray(image_data2)\n",
        "            #image_data2=skimage.io.imread(image_path,plugin=\"simpleitk\")\n",
        "            image_data2=standardize(image_data2)\n",
        "            #image_data2=my_resize_func(image_data2)\n",
        "            image_data2=np.expand_dims(image_data2,axis=-1)\n",
        "            t1ce.append(image_data2)\n",
        "\n",
        "        \n",
        "y_train=np.array(y_train,np.float32)\n",
        "y_train=y_train[:,60:188,60:188,15:143]\n",
        "print(y_train.shape)\n",
        "\n",
        "flair=np.array(flair,np.float32)\n",
        "flair=flair[:,60:188,60:188,15:143,:]\n",
        "print(flair.shape)\n",
        "\n",
        "t1=np.array(t1,np.float32)\n",
        "t1=t1[:,60:188,60:188,15:143,:]\n",
        "print(t1.shape)\n",
        "\n",
        "t1ce=np.array(t1ce,np.float32)\n",
        "t1ce=t1ce[:,60:188,60:188,15:143,:]\n",
        "print(t1ce.shape)\n",
        "\n",
        "t2=np.array(t2,np.float32)\n",
        "t2=t2[:,60:188,60:188,15:143,:]\n",
        "print(t2.shape)\n",
        "\n",
        "\n",
        "        \n",
        "\n",
        "        "
      ],
      "execution_count": null,
      "outputs": [
        {
          "output_type": "stream",
          "text": [
            "Brats18_2013_10_1\n"
          ],
          "name": "stdout"
        },
        {
          "output_type": "stream",
          "text": [
            "/usr/local/lib/python3.7/dist-packages/ipykernel_launcher.py:35: DeprecationWarning: get_data() is deprecated in favor of get_fdata(), which has a more predictable return type. To obtain get_data() behavior going forward, use numpy.asanyarray(img.dataobj).\n",
            "\n",
            "* deprecated from version: 3.0\n",
            "* Will raise <class 'nibabel.deprecator.ExpiredDeprecationError'> as of version: 5.0\n",
            "/usr/local/lib/python3.7/dist-packages/ipykernel_launcher.py:25: DeprecationWarning: get_data() is deprecated in favor of get_fdata(), which has a more predictable return type. To obtain get_data() behavior going forward, use numpy.asanyarray(img.dataobj).\n",
            "\n",
            "* deprecated from version: 3.0\n",
            "* Will raise <class 'nibabel.deprecator.ExpiredDeprecationError'> as of version: 5.0\n",
            "/usr/local/lib/python3.7/dist-packages/ipykernel_launcher.py:45: DeprecationWarning: get_data() is deprecated in favor of get_fdata(), which has a more predictable return type. To obtain get_data() behavior going forward, use numpy.asanyarray(img.dataobj).\n",
            "\n",
            "* deprecated from version: 3.0\n",
            "* Will raise <class 'nibabel.deprecator.ExpiredDeprecationError'> as of version: 5.0\n",
            "/usr/local/lib/python3.7/dist-packages/ipykernel_launcher.py:65: DeprecationWarning: get_data() is deprecated in favor of get_fdata(), which has a more predictable return type. To obtain get_data() behavior going forward, use numpy.asanyarray(img.dataobj).\n",
            "\n",
            "* deprecated from version: 3.0\n",
            "* Will raise <class 'nibabel.deprecator.ExpiredDeprecationError'> as of version: 5.0\n",
            "/usr/local/lib/python3.7/dist-packages/ipykernel_launcher.py:55: DeprecationWarning: get_data() is deprecated in favor of get_fdata(), which has a more predictable return type. To obtain get_data() behavior going forward, use numpy.asanyarray(img.dataobj).\n",
            "\n",
            "* deprecated from version: 3.0\n",
            "* Will raise <class 'nibabel.deprecator.ExpiredDeprecationError'> as of version: 5.0\n"
          ],
          "name": "stderr"
        },
        {
          "output_type": "stream",
          "text": [
            "Brats18_2013_11_1\n",
            "Brats18_2013_12_1\n",
            "Brats18_2013_13_1\n",
            "Brats18_2013_14_1\n",
            "Brats18_2013_17_1\n",
            "Brats18_2013_18_1\n",
            "Brats18_2013_19_1\n",
            "Brats18_2013_20_1\n",
            "Brats18_2013_21_1\n",
            "Brats18_2013_22_1\n",
            "Brats18_2013_23_1\n",
            "Brats18_2013_25_1\n",
            "Brats18_2013_26_1\n",
            "Brats18_2013_27_1\n",
            "Brats18_2013_2_1\n",
            "Brats18_2013_3_1\n",
            "Brats18_2013_4_1\n",
            "Brats18_2013_5_1\n",
            "Brats18_2013_7_1\n",
            "Brats18_CBICA_AAB_1\n",
            "Brats18_CBICA_AAG_1\n",
            "Brats18_CBICA_AAL_1\n",
            "Brats18_CBICA_AAP_1\n",
            "Brats18_CBICA_ABB_1\n",
            "Brats18_CBICA_ABE_1\n",
            "Brats18_CBICA_ABM_1\n",
            "Brats18_CBICA_ABN_1\n",
            "Brats18_CBICA_ABO_1\n",
            "Brats18_CBICA_ABY_1\n",
            "Brats18_CBICA_ALN_1\n",
            "Brats18_CBICA_ALU_1\n",
            "Brats18_CBICA_ALX_1\n",
            "Brats18_CBICA_AME_1\n",
            "Brats18_CBICA_AMH_1\n",
            "Brats18_CBICA_ANG_1\n",
            "Brats18_CBICA_ANI_1\n",
            "Brats18_CBICA_ANP_1\n",
            "Brats18_CBICA_ANZ_1\n",
            "Brats18_CBICA_AOD_1\n",
            "(40, 128, 128, 128, 1)\n",
            "(40, 128, 128, 128, 1)\n",
            "(40, 128, 128, 128, 1)\n",
            "(40, 128, 128, 128, 1)\n",
            "(40, 128, 128, 128, 1)\n"
          ],
          "name": "stdout"
        }
      ]
    },
    {
      "cell_type": "markdown",
      "metadata": {
        "id": "w9pV_gFIWUYd"
      },
      "source": [
        "# Preparing the X_train:"
      ]
    },
    {
      "cell_type": "code",
      "metadata": {
        "colab": {
          "base_uri": "https://localhost:8080/"
        },
        "id": "5tEwXMTG-I1F",
        "outputId": "1842dfa6-1c9b-426d-e588-db19d2076f75"
      },
      "source": [
        "X_train=np.concatenate((flair,t1,t2,t1ce),axis=-1)\n",
        "X_train.shape"
      ],
      "execution_count": null,
      "outputs": [
        {
          "output_type": "execute_result",
          "data": {
            "text/plain": [
              "(40, 128, 128, 128, 4)"
            ]
          },
          "metadata": {
            "tags": []
          },
          "execution_count": 57
        }
      ]
    },
    {
      "cell_type": "markdown",
      "metadata": {
        "id": "cchATSzVWbkq"
      },
      "source": [
        "# Training image: Flair Modality"
      ]
    },
    {
      "cell_type": "code",
      "metadata": {
        "colab": {
          "base_uri": "https://localhost:8080/",
          "height": 284
        },
        "id": "zAbrWvf_xnuJ",
        "outputId": "e49ef92a-bdee-4018-f557-b9c5511e0ab5"
      },
      "source": [
        "plt.imshow(X_train[10,:,:,50,0])"
      ],
      "execution_count": null,
      "outputs": [
        {
          "output_type": "execute_result",
          "data": {
            "text/plain": [
              "<matplotlib.image.AxesImage at 0x7f7bb1173150>"
            ]
          },
          "metadata": {
            "tags": []
          },
          "execution_count": 24
        },
        {
          "output_type": "display_data",
          "data": {
            "image/png": "[encoded data removed]",
            "text/plain": [
              "<Figure size 432x288 with 1 Axes>"
            ]
          },
          "metadata": {
            "tags": [],
            "needs_background": "light"
          }
        }
      ]
    },
    {
      "cell_type": "markdown",
      "metadata": {
        "id": "JM7RyxpNWiYU"
      },
      "source": [
        "# Ground Truth:"
      ]
    },
    {
      "cell_type": "code",
      "metadata": {
        "colab": {
          "base_uri": "https://localhost:8080/",
          "height": 284
        },
        "id": "qyScEC-Hx4sW",
        "outputId": "cd13d643-d6a2-422c-ec13-71e98ab2b2bb"
      },
      "source": [
        "plt.imshow(y_train[10,:,:,50])"
      ],
      "execution_count": null,
      "outputs": [
        {
          "output_type": "execute_result",
          "data": {
            "text/plain": [
              "<matplotlib.image.AxesImage at 0x7f7ba6b03a50>"
            ]
          },
          "metadata": {
            "tags": []
          },
          "execution_count": 58
        },
        {
          "output_type": "display_data",
          "data": {
            "image/png": "[encoded data removed]",
            "text/plain": [
              "<Figure size 432x288 with 1 Axes>"
            ]
          },
          "metadata": {
            "tags": [],
            "needs_background": "light"
          }
        }
      ]
    },
    {
      "cell_type": "markdown",
      "metadata": {
        "id": "4rG8C3ofB2DX"
      },
      "source": [
        "# Training:"
      ]
    },
    {
      "cell_type": "code",
      "metadata": {
        "colab": {
          "base_uri": "https://localhost:8080/"
        },
        "id": "0ZxG7e5AK0HB",
        "outputId": "3a7b034a-1807-4af4-974b-b83d466a9e7b"
      },
      "source": [
        "history1=model.fit(X_train,y_train,validation_split=0.2,batch_size=1,epochs=50)"
      ],
      "execution_count": null,
      "outputs": [
        {
          "output_type": "stream",
          "text": [
            "Epoch 1/50\n",
            "32/32 [==============================] - 288s 8s/step - loss: 0.9513 - dice_coef: 0.0487 - val_loss: 0.9574 - val_dice_coef: 0.0426\n",
            "Epoch 2/50\n",
            "32/32 [==============================] - 262s 8s/step - loss: 0.9512 - dice_coef: 0.0488 - val_loss: 0.9688 - val_dice_coef: 0.0312\n",
            "Epoch 3/50\n",
            "32/32 [==============================] - 261s 8s/step - loss: 0.9469 - dice_coef: 0.0531 - val_loss: 0.9670 - val_dice_coef: 0.0330\n",
            "Epoch 4/50\n",
            "32/32 [==============================] - 261s 8s/step - loss: 0.9455 - dice_coef: 0.0545 - val_loss: 0.9694 - val_dice_coef: 0.0306\n",
            "Epoch 5/50\n",
            "32/32 [==============================] - 262s 8s/step - loss: 0.9479 - dice_coef: 0.0521 - val_loss: 0.9692 - val_dice_coef: 0.0308\n",
            "Epoch 6/50\n",
            "32/32 [==============================] - 261s 8s/step - loss: 0.9463 - dice_coef: 0.0537 - val_loss: 0.9692 - val_dice_coef: 0.0308\n",
            "Epoch 7/50\n",
            "32/32 [==============================] - 263s 8s/step - loss: 0.9501 - dice_coef: 0.0499 - val_loss: 0.9519 - val_dice_coef: 0.0481\n",
            "Epoch 8/50\n",
            "32/32 [==============================] - 262s 8s/step - loss: 0.9479 - dice_coef: 0.0521 - val_loss: 0.9565 - val_dice_coef: 0.0435\n",
            "Epoch 9/50\n",
            "32/32 [==============================] - 262s 8s/step - loss: 0.9457 - dice_coef: 0.0543 - val_loss: 0.9562 - val_dice_coef: 0.0438\n",
            "Epoch 10/50\n",
            "32/32 [==============================] - 262s 8s/step - loss: 0.9480 - dice_coef: 0.0520 - val_loss: 0.9547 - val_dice_coef: 0.0453\n",
            "Epoch 11/50\n",
            "32/32 [==============================] - 262s 8s/step - loss: 0.9500 - dice_coef: 0.0500 - val_loss: 0.9529 - val_dice_coef: 0.0471\n",
            "Epoch 12/50\n",
            "32/32 [==============================] - 263s 8s/step - loss: 0.9461 - dice_coef: 0.0539 - val_loss: 0.9535 - val_dice_coef: 0.0465\n",
            "Epoch 13/50\n",
            "32/32 [==============================] - 262s 8s/step - loss: 0.9481 - dice_coef: 0.0519 - val_loss: 0.9502 - val_dice_coef: 0.0498\n",
            "Epoch 14/50\n",
            "32/32 [==============================] - 263s 8s/step - loss: 0.9442 - dice_coef: 0.0558 - val_loss: 0.9504 - val_dice_coef: 0.0496\n",
            "Epoch 15/50\n",
            "32/32 [==============================] - 262s 8s/step - loss: 0.9469 - dice_coef: 0.0531 - val_loss: 0.9504 - val_dice_coef: 0.0496\n",
            "Epoch 16/50\n",
            "32/32 [==============================] - 263s 8s/step - loss: 0.9510 - dice_coef: 0.0490 - val_loss: 0.9514 - val_dice_coef: 0.0486\n",
            "Epoch 17/50\n",
            "32/32 [==============================] - 263s 8s/step - loss: 0.9465 - dice_coef: 0.0535 - val_loss: 0.9514 - val_dice_coef: 0.0486\n",
            "Epoch 18/50\n",
            "32/32 [==============================] - 262s 8s/step - loss: 0.9469 - dice_coef: 0.0531 - val_loss: 0.9496 - val_dice_coef: 0.0504\n",
            "Epoch 19/50\n",
            "32/32 [==============================] - 263s 8s/step - loss: 0.9450 - dice_coef: 0.0550 - val_loss: 0.9491 - val_dice_coef: 0.0509\n",
            "Epoch 20/50\n",
            "32/32 [==============================] - 263s 8s/step - loss: 0.9489 - dice_coef: 0.0511 - val_loss: 0.9499 - val_dice_coef: 0.0501\n",
            "Epoch 21/50\n",
            "32/32 [==============================] - 263s 8s/step - loss: 0.9452 - dice_coef: 0.0548 - val_loss: 0.9486 - val_dice_coef: 0.0514\n",
            "Epoch 22/50\n",
            "32/32 [==============================] - 262s 8s/step - loss: 0.9437 - dice_coef: 0.0563 - val_loss: 0.9530 - val_dice_coef: 0.0470\n",
            "Epoch 23/50\n",
            "32/32 [==============================] - 263s 8s/step - loss: 0.9497 - dice_coef: 0.0503 - val_loss: 0.9500 - val_dice_coef: 0.0500\n",
            "Epoch 24/50\n",
            "32/32 [==============================] - 262s 8s/step - loss: 0.9490 - dice_coef: 0.0510 - val_loss: 0.9492 - val_dice_coef: 0.0508\n",
            "Epoch 25/50\n",
            "32/32 [==============================] - 262s 8s/step - loss: 0.9499 - dice_coef: 0.0501 - val_loss: 0.9488 - val_dice_coef: 0.0512\n",
            "Epoch 26/50\n",
            "32/32 [==============================] - 261s 8s/step - loss: 0.9466 - dice_coef: 0.0534 - val_loss: 0.9490 - val_dice_coef: 0.0510\n",
            "Epoch 27/50\n",
            "32/32 [==============================] - 262s 8s/step - loss: 0.9482 - dice_coef: 0.0518 - val_loss: 0.9490 - val_dice_coef: 0.0510\n",
            "Epoch 28/50\n",
            "32/32 [==============================] - 262s 8s/step - loss: 0.9473 - dice_coef: 0.0527 - val_loss: 0.9487 - val_dice_coef: 0.0513\n",
            "Epoch 29/50\n",
            "32/32 [==============================] - 262s 8s/step - loss: 0.9479 - dice_coef: 0.0521 - val_loss: 0.9485 - val_dice_coef: 0.0515\n",
            "Epoch 30/50\n",
            "32/32 [==============================] - 262s 8s/step - loss: 0.9428 - dice_coef: 0.0572 - val_loss: 0.9487 - val_dice_coef: 0.0513\n",
            "Epoch 31/50\n",
            "32/32 [==============================] - 262s 8s/step - loss: 0.9489 - dice_coef: 0.0511 - val_loss: 0.9485 - val_dice_coef: 0.0515\n",
            "Epoch 32/50\n",
            "32/32 [==============================] - 262s 8s/step - loss: 0.9444 - dice_coef: 0.0556 - val_loss: 0.9485 - val_dice_coef: 0.0515\n",
            "Epoch 33/50\n",
            "32/32 [==============================] - 262s 8s/step - loss: 0.9455 - dice_coef: 0.0545 - val_loss: 0.9502 - val_dice_coef: 0.0498\n",
            "Epoch 34/50\n",
            "32/32 [==============================] - 266s 8s/step - loss: 0.9457 - dice_coef: 0.0543 - val_loss: 0.9487 - val_dice_coef: 0.0513\n",
            "Epoch 35/50\n",
            "32/32 [==============================] - 262s 8s/step - loss: 0.9439 - dice_coef: 0.0561 - val_loss: 0.9486 - val_dice_coef: 0.0514\n",
            "Epoch 36/50\n",
            "32/32 [==============================] - 262s 8s/step - loss: 0.9459 - dice_coef: 0.0541 - val_loss: 0.9487 - val_dice_coef: 0.0513\n",
            "Epoch 37/50\n",
            "32/32 [==============================] - 262s 8s/step - loss: 0.9433 - dice_coef: 0.0567 - val_loss: 0.9490 - val_dice_coef: 0.0510\n",
            "Epoch 38/50\n",
            "32/32 [==============================] - 262s 8s/step - loss: 0.9425 - dice_coef: 0.0575 - val_loss: 0.9491 - val_dice_coef: 0.0509\n",
            "Epoch 39/50\n",
            "32/32 [==============================] - 262s 8s/step - loss: 0.9440 - dice_coef: 0.0560 - val_loss: 0.9489 - val_dice_coef: 0.0511\n",
            "Epoch 40/50\n",
            "32/32 [==============================] - 261s 8s/step - loss: 0.9466 - dice_coef: 0.0534 - val_loss: 0.9485 - val_dice_coef: 0.0515\n",
            "Epoch 41/50\n",
            "32/32 [==============================] - 262s 8s/step - loss: 0.9483 - dice_coef: 0.0517 - val_loss: 0.9486 - val_dice_coef: 0.0514\n",
            "Epoch 42/50\n",
            "32/32 [==============================] - 262s 8s/step - loss: 0.9440 - dice_coef: 0.0560 - val_loss: 0.9490 - val_dice_coef: 0.0510\n",
            "Epoch 43/50\n",
            "32/32 [==============================] - 261s 8s/step - loss: 0.9432 - dice_coef: 0.0568 - val_loss: 0.9489 - val_dice_coef: 0.0511\n",
            "Epoch 44/50\n",
            "32/32 [==============================] - 262s 8s/step - loss: 0.9506 - dice_coef: 0.0494 - val_loss: 0.9491 - val_dice_coef: 0.0509\n",
            "Epoch 45/50\n",
            "32/32 [==============================] - 261s 8s/step - loss: 0.9443 - dice_coef: 0.0557 - val_loss: 0.9486 - val_dice_coef: 0.0514\n",
            "Epoch 46/50\n",
            "32/32 [==============================] - 262s 8s/step - loss: 0.9473 - dice_coef: 0.0527 - val_loss: 0.9509 - val_dice_coef: 0.0491\n",
            "Epoch 47/50\n",
            "32/32 [==============================] - 262s 8s/step - loss: 0.9471 - dice_coef: 0.0529 - val_loss: 0.9510 - val_dice_coef: 0.0490\n",
            "Epoch 48/50\n",
            "32/32 [==============================] - 263s 8s/step - loss: 0.9477 - dice_coef: 0.0523 - val_loss: 0.9503 - val_dice_coef: 0.0497\n",
            "Epoch 49/50\n",
            "32/32 [==============================] - 262s 8s/step - loss: 0.9492 - dice_coef: 0.0508 - val_loss: 0.9488 - val_dice_coef: 0.0512\n",
            "Epoch 50/50\n",
            "32/32 [==============================] - 255s 8s/step - loss: 0.9471 - dice_coef: 0.0529 - val_loss: 0.9495 - val_dice_coef: 0.0505\n"
          ],
          "name": "stdout"
        }
      ]
    },
    {
      "cell_type": "code",
      "metadata": {
        "id": "5kKDvQ8zLh8n"
      },
      "source": [
        "model.save_weights(\"/content/gdrive/MyDrive/working models brats 18/3dunet1.h5\")"
      ],
      "execution_count": null,
      "outputs": []
    },
    {
      "cell_type": "markdown",
      "metadata": {
        "id": "vpjx3iPYWxVk"
      },
      "source": [
        "# Test image: 200th image"
      ]
    },
    {
      "cell_type": "code",
      "metadata": {
        "id": "qtwrmMKNU6ND",
        "colab": {
          "base_uri": "https://localhost:8080/"
        },
        "outputId": "2e47394a-a1e1-4d57-f980-b415627fa303"
      },
      "source": [
        "y_test=[]\n",
        "flair_t=[]\n",
        "t1_t=[]\n",
        "t1ce_t=[]\n",
        "t2_t=[]\n",
        "x = all_images[200] # Entering the folder\n",
        "print(x)\n",
        "folder_path = path + x;\n",
        "modalities = os.listdir(folder_path) # All modalities\n",
        "modalities.sort()\n",
        "#data = []\n",
        "\n",
        "for j in range(len(modalities)):\n",
        "\n",
        "    #print(modalities[j])\n",
        "\n",
        "    image_path = folder_path + '/' + modalities[j] #Accesing the image\n",
        "    if (image_path[-7:-1] + image_path[-1] == 'seg.nii'):\n",
        "\n",
        "        img = nib.load(image_path);\n",
        "        image_data2 = img.get_data()\n",
        "        image_data2 = np.asarray(image_data2)\n",
        "        #image_data2=skimage.io.imread(image_path,plugin=\"simpleitk\")\n",
        "        image_data2=standardize(image_data2)\n",
        "        #image_data2=my_resize_func(image_data2)\n",
        "        image_data2=np.expand_dims(image_data2,axis=-1)\n",
        "        y_test.append(image_data2)\n",
        "    if (image_path[-9:-1] + image_path[-1] == 'flair.nii'):\n",
        "\n",
        "        img = nib.load(image_path);\n",
        "        image_data2 = img.get_data()\n",
        "        image_data2 = np.asarray(image_data2)\n",
        "        #image_data2=skimage.io.imread(image_path,plugin=\"simpleitk\")\n",
        "        image_data2=standardize(image_data2)\n",
        "        #image_data2=my_resize_func(image_data2)\n",
        "        image_data2=np.expand_dims(image_data2,axis=-1)\n",
        "        flair_t.append(image_data2)\n",
        "    if (image_path[-6:-1] + image_path[-1] == 't1.nii'):\n",
        "\n",
        "        img = nib.load(image_path);\n",
        "        image_data2 = img.get_data()\n",
        "        image_data2 = np.asarray(image_data2)\n",
        "        #image_data2=skimage.io.imread(image_path,plugin=\"simpleitk\")\n",
        "        image_data2=standardize(image_data2)\n",
        "        #image_data2=my_resize_func(image_data2)\n",
        "        image_data2=np.expand_dims(image_data2,axis=-1)\n",
        "        t1_t.append(image_data2)\n",
        "    if (image_path[-6:-1] + image_path[-1] == 't2.nii'):\n",
        "\n",
        "        img = nib.load(image_path);\n",
        "        image_data2 = img.get_data()\n",
        "        image_data2 = np.asarray(image_data2)\n",
        "        #image_data2=skimage.io.imread(image_path,plugin=\"simpleitk\")\n",
        "        image_data2=standardize(image_data2)\n",
        "        #image_data2=my_resize_func(image_data2)\n",
        "        image_data2=np.expand_dims(image_data2,axis=-1)\n",
        "        t2_t.append(image_data2)\n",
        "    if (image_path[-8:-1] + image_path[-1] == 't1ce.nii'):\n",
        "\n",
        "        img = nib.load(image_path);\n",
        "        image_data2 = img.get_data()\n",
        "        image_data2 = np.asarray(image_data2)\n",
        "        #image_data2=skimage.io.imread(image_path,plugin=\"simpleitk\")\n",
        "        image_data2=standardize(image_data2)\n",
        "        #image_data2=my_resize_func(image_data2)\n",
        "        image_data2=np.expand_dims(image_data2,axis=-1)\n",
        "        t1ce_t.append(image_data2)\n",
        "\n",
        "        \n",
        "y_test=np.array(y_test,np.float32)\n",
        "y_test=y_test[:,60:188,60:188,15:143,:]\n",
        "print(y_test.shape)\n",
        "\n",
        "flair_t=np.array(flair_t,np.float32)\n",
        "flair_t=flair_t[:,60:188,60:188,15:143,:]\n",
        "print(flair_t.shape)\n",
        "\n",
        "t1_t=np.array(t1_t,np.float32)\n",
        "t1_t=t1_t[:,60:188,60:188,15:143,:]\n",
        "print(t1_t.shape)\n",
        "\n",
        "t1ce_t=np.array(t1ce_t,np.float32)\n",
        "t1ce_t=t1ce_t[:,60:188,60:188,15:143,:]\n",
        "print(t1ce_t.shape)\n",
        "\n",
        "t2_t=np.array(t2_t,np.float32)\n",
        "t2_t=t2_t[:,60:188,60:188,15:143,:]\n",
        "print(t2_t.shape)\n"
      ],
      "execution_count": null,
      "outputs": [
        {
          "output_type": "stream",
          "text": [
            "Brats18_TCIA08_205_1\n"
          ],
          "name": "stdout"
        },
        {
          "output_type": "stream",
          "text": [
            "/usr/local/lib/python3.7/dist-packages/ipykernel_launcher.py:31: DeprecationWarning: get_data() is deprecated in favor of get_fdata(), which has a more predictable return type. To obtain get_data() behavior going forward, use numpy.asanyarray(img.dataobj).\n",
            "\n",
            "* deprecated from version: 3.0\n",
            "* Will raise <class 'nibabel.deprecator.ExpiredDeprecationError'> as of version: 5.0\n",
            "/usr/local/lib/python3.7/dist-packages/ipykernel_launcher.py:21: DeprecationWarning: get_data() is deprecated in favor of get_fdata(), which has a more predictable return type. To obtain get_data() behavior going forward, use numpy.asanyarray(img.dataobj).\n",
            "\n",
            "* deprecated from version: 3.0\n",
            "* Will raise <class 'nibabel.deprecator.ExpiredDeprecationError'> as of version: 5.0\n",
            "/usr/local/lib/python3.7/dist-packages/ipykernel_launcher.py:41: DeprecationWarning: get_data() is deprecated in favor of get_fdata(), which has a more predictable return type. To obtain get_data() behavior going forward, use numpy.asanyarray(img.dataobj).\n",
            "\n",
            "* deprecated from version: 3.0\n",
            "* Will raise <class 'nibabel.deprecator.ExpiredDeprecationError'> as of version: 5.0\n",
            "/usr/local/lib/python3.7/dist-packages/ipykernel_launcher.py:61: DeprecationWarning: get_data() is deprecated in favor of get_fdata(), which has a more predictable return type. To obtain get_data() behavior going forward, use numpy.asanyarray(img.dataobj).\n",
            "\n",
            "* deprecated from version: 3.0\n",
            "* Will raise <class 'nibabel.deprecator.ExpiredDeprecationError'> as of version: 5.0\n",
            "/usr/local/lib/python3.7/dist-packages/ipykernel_launcher.py:51: DeprecationWarning: get_data() is deprecated in favor of get_fdata(), which has a more predictable return type. To obtain get_data() behavior going forward, use numpy.asanyarray(img.dataobj).\n",
            "\n",
            "* deprecated from version: 3.0\n",
            "* Will raise <class 'nibabel.deprecator.ExpiredDeprecationError'> as of version: 5.0\n"
          ],
          "name": "stderr"
        },
        {
          "output_type": "stream",
          "text": [
            "(1, 128, 128, 128, 1)\n",
            "(1, 128, 128, 128, 1)\n",
            "(1, 128, 128, 128, 1)\n",
            "(1, 128, 128, 128, 1)\n",
            "(1, 128, 128, 128, 1)\n"
          ],
          "name": "stdout"
        }
      ]
    },
    {
      "cell_type": "code",
      "metadata": {
        "id": "v2hzt6q8-SOJ"
      },
      "source": [
        "X_test=np.concatenate((flair_t,t1_t,t2_t,t1ce_t),axis=-1)"
      ],
      "execution_count": null,
      "outputs": []
    },
    {
      "cell_type": "markdown",
      "metadata": {
        "id": "jZAIMvpcW57Y"
      },
      "source": [
        "# Flair modality of the test image:"
      ]
    },
    {
      "cell_type": "code",
      "metadata": {
        "colab": {
          "base_uri": "https://localhost:8080/",
          "height": 284
        },
        "id": "glhIiYKN-fFX",
        "outputId": "e9e0f1dd-1be6-4123-f3e5-4f01d8086178"
      },
      "source": [
        "plt.imshow(X_test[0,:,:,70,0])"
      ],
      "execution_count": null,
      "outputs": [
        {
          "output_type": "execute_result",
          "data": {
            "text/plain": [
              "<matplotlib.image.AxesImage at 0x7f7baa9af910>"
            ]
          },
          "metadata": {
            "tags": []
          },
          "execution_count": 32
        },
        {
          "output_type": "display_data",
          "data": {
            "image/png": "[encoded data removed]",
            "text/plain": [
              "<Figure size 432x288 with 1 Axes>"
            ]
          },
          "metadata": {
            "tags": [],
            "needs_background": "light"
          }
        }
      ]
    },
    {
      "cell_type": "markdown",
      "metadata": {
        "id": "k5VDgJkAXA6V"
      },
      "source": [
        "# Ground Truth: "
      ]
    },
    {
      "cell_type": "code",
      "metadata": {
        "colab": {
          "base_uri": "https://localhost:8080/",
          "height": 284
        },
        "id": "2ojy60cf-mhf",
        "outputId": "634bf5a1-c4a3-435e-aec4-609e05e599f7"
      },
      "source": [
        "plt.imshow(y_test[0,:,:,70,0])"
      ],
      "execution_count": null,
      "outputs": [
        {
          "output_type": "execute_result",
          "data": {
            "text/plain": [
              "<matplotlib.image.AxesImage at 0x7f7baa98d710>"
            ]
          },
          "metadata": {
            "tags": []
          },
          "execution_count": 33
        },
        {
          "output_type": "display_data",
          "data": {
            "image/png": "[encoded data removed]",
            "text/plain": [
              "<Figure size 432x288 with 1 Axes>"
            ]
          },
          "metadata": {
            "tags": [],
            "needs_background": "light"
          }
        }
      ]
    },
    {
      "cell_type": "markdown",
      "metadata": {
        "id": "5tVDK2sdXGv4"
      },
      "source": [
        "# Predictions:"
      ]
    },
    {
      "cell_type": "code",
      "metadata": {
        "colab": {
          "base_uri": "https://localhost:8080/"
        },
        "id": "YC52UqjO-xv-",
        "outputId": "3ba35566-559b-44ca-a314-2c56b19f0074"
      },
      "source": [
        "pred=model.predict(X_test)\n",
        "pred=np.argmax(pred,axis=-1)\n",
        "pred.shape"
      ],
      "execution_count": null,
      "outputs": [
        {
          "output_type": "stream",
          "text": [
            "/usr/local/lib/python3.7/dist-packages/tensorflow/python/data/ops/dataset_ops.py:3704: UserWarning: Even though the `tf.config.experimental_run_functions_eagerly` option is set, this option does not apply to tf.data functions. To force eager execution of tf.data functions, please use `tf.data.experimental.enable.debug_mode()`.\n",
            "  \"Even though the `tf.config.experimental_run_functions_eagerly` \"\n"
          ],
          "name": "stderr"
        },
        {
          "output_type": "execute_result",
          "data": {
            "text/plain": [
              "(1, 128, 128, 128)"
            ]
          },
          "metadata": {
            "tags": []
          },
          "execution_count": 86
        }
      ]
    },
    {
      "cell_type": "code",
      "metadata": {
        "colab": {
          "base_uri": "https://localhost:8080/",
          "height": 284
        },
        "id": "V8lxm2_U-460",
        "outputId": "a1130869-0e62-4d56-bc6c-7ff64e709856"
      },
      "source": [
        "plt.imshow(pred[0,:,:,70])"
      ],
      "execution_count": null,
      "outputs": [
        {
          "output_type": "execute_result",
          "data": {
            "text/plain": [
              "<matplotlib.image.AxesImage at 0x7f7ba7272890>"
            ]
          },
          "metadata": {
            "tags": []
          },
          "execution_count": 87
        },
        {
          "output_type": "display_data",
          "data": {
            "image/png": "[encoded data removed]",
            "text/plain": [
              "<Figure size 432x288 with 1 Axes>"
            ]
          },
          "metadata": {
            "tags": [],
            "needs_background": "light"
          }
        }
      ]
    },
    {
      "cell_type": "code",
      "metadata": {
        "id": "QtPwdVKVcNrI"
      },
      "source": [
        ""
      ],
      "execution_count": null,
      "outputs": []
    }
  ]
}